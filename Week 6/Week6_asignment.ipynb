{
  "nbformat": 4,
  "nbformat_minor": 0,
  "metadata": {
    "colab": {
      "name": "Weekly-Project-MNIST.ipynb",
      "provenance": [],
      "collapsed_sections": [],
      "toc_visible": true
    },
    "kernelspec": {
      "display_name": "Python 3",
      "language": "python",
      "name": "python3"
    },
    "language_info": {
      "codemirror_mode": {
        "name": "ipython",
        "version": 3
      },
      "file_extension": ".py",
      "mimetype": "text/x-python",
      "name": "python",
      "nbconvert_exporter": "python",
      "pygments_lexer": "ipython3",
      "version": "3.7.6"
    }
  },
  "cells": [
    {
      "cell_type": "markdown",
      "metadata": {
        "colab_type": "text",
        "id": "Ps5x-gYUCf9_"
      },
      "source": [
        "# Handwritten Digits Classification"
      ]
    },
    {
      "cell_type": "markdown",
      "metadata": {
        "colab_type": "text",
        "id": "0glR10XBCxNy"
      },
      "source": [
        "## Overview\n",
        "\n",
        "The MNIST database (Modified National Institute of Standards and Technology database) is a large database of handwritten digits that is commonly used for training various image processing systems. MNIST is like the \"Hello World\" of machine learning with which you can try out a few machine learning algorithms.\n",
        "\n",
        "![](https://upload.wikimedia.org/wikipedia/commons/2/27/MnistExamples.png)\n",
        "\n",
        "Each image is 28 pixels in height and 28 pixels in width, for a total of 784 pixels in total. Each pixel has a single pixel-value associated with it, indicating the lightness or darkness of that pixel, with higher numbers meaning lighter. This pixel-value is an integer between 0 and 255, inclusive.\n",
        "\n",
        "Visually, if we omit the \"pixel\" prefix, the pixels make up the image like this:\n",
        "```\n",
        "000 001 002 003 ... 026 027\n",
        "028 029 030 031 ... 054 055\n",
        "056 057 058 059 ... 082 083\n",
        " |   |   |   |  ...  |   |\n",
        "728 729 730 731 ... 754 755\n",
        "756 757 758 759 ... 782 783 \n",
        "```"
      ]
    },
    {
      "cell_type": "markdown",
      "metadata": {
        "colab_type": "text",
        "id": "-3hGXfqVDRna"
      },
      "source": [
        "## Get Data"
      ]
    },
    {
      "cell_type": "code",
      "metadata": {
        "colab_type": "code",
        "id": "4IWx_-bBEYAT",
        "colab": {
          "base_uri": "https://localhost:8080/",
          "height": 71
        },
        "outputId": "9f6aaa9a-bf2f-4b04-eeff-15dd2d5ba448"
      },
      "source": [
        "import numpy as np\n",
        "import pandas as pd\n",
        "import seaborn as sns\n",
        "import matplotlib.pyplot as plt\n",
        "%matplotlib inline\n",
        "\n",
        "import warnings\n",
        "warnings.filterwarnings('ignore')\n",
        "\n",
        "sns.set_style(\"whitegrid\")"
      ],
      "execution_count": 1,
      "outputs": [
        {
          "output_type": "stream",
          "text": [
            "/usr/local/lib/python3.6/dist-packages/statsmodels/tools/_testing.py:19: FutureWarning: pandas.util.testing is deprecated. Use the functions in the public API at pandas.testing instead.\n",
            "  import pandas.util.testing as tm\n"
          ],
          "name": "stderr"
        }
      ]
    },
    {
      "cell_type": "code",
      "metadata": {
        "colab_type": "code",
        "id": "BNhUbXb9CSbh",
        "colab": {
          "base_uri": "https://localhost:8080/",
          "height": 85
        },
        "outputId": "38525b8d-a553-447e-97a0-5526a07879d2"
      },
      "source": [
        "from tensorflow.keras.datasets import mnist\n",
        "\n",
        "(X_train, y_train), (X_test, y_test) = mnist.load_data()\n",
        "\n",
        "print('Training data:', X_train.shape, y_train.shape)\n",
        "print('Test data:', X_test.shape, y_test.shape)"
      ],
      "execution_count": 2,
      "outputs": [
        {
          "output_type": "stream",
          "text": [
            "Downloading data from https://storage.googleapis.com/tensorflow/tf-keras-datasets/mnist.npz\n",
            "11493376/11490434 [==============================] - 0s 0us/step\n",
            "Training data: (60000, 28, 28) (60000,)\n",
            "Test data: (10000, 28, 28) (10000,)\n"
          ],
          "name": "stdout"
        }
      ]
    },
    {
      "cell_type": "markdown",
      "metadata": {
        "colab_type": "text",
        "id": "VYTtM9VlGs31"
      },
      "source": [
        "## EDA"
      ]
    },
    {
      "cell_type": "code",
      "metadata": {
        "colab_type": "code",
        "id": "xcZURSKuDcvm",
        "colab": {}
      },
      "source": [
        "def plot_images(images, labels):\n",
        "    '''Plot images with their labels. Ten each row'''\n",
        "    plt.figure(figsize=(20, 10))\n",
        "    columns = 10\n",
        "    for i, image in enumerate(images):\n",
        "        ax = plt.subplot(len(images) / columns + 1, columns, i + 1)\n",
        "        ax.set_title(f\"{labels[i]}\", fontsize=16)\n",
        "        plt.axis('off')\n",
        "        plt.subplots_adjust(bottom=0.1)\n",
        "        plt.imshow(image, cmap='gray')\n",
        "\n",
        "def get_samples(n_samples, X, y):\n",
        "    '''Get n_samples images randomly'''\n",
        "    samples = np.random.choice(np.arange(len(y)), n_samples, replace=False)\n",
        "    return X[samples], y[samples]\n",
        "\n",
        "def get_digit(digit, n_samples, X, y):\n",
        "    '''Get n_samples images of the class digit randomly'''\n",
        "    y_digit = y[y == digit]\n",
        "    samples = np.random.choice(np.arange(len(y_digit)), n_samples, replace=False)\n",
        "    return X[y == digit][samples], y_digit[samples]"
      ],
      "execution_count": 3,
      "outputs": []
    },
    {
      "cell_type": "code",
      "metadata": {
        "colab_type": "code",
        "id": "OpMe7EMCEF01",
        "colab": {
          "base_uri": "https://localhost:8080/",
          "height": 367
        },
        "outputId": "158f9605-3fec-4cf9-c816-f78b7f751c2c"
      },
      "source": [
        "n_samples = 30\n",
        "images, labels = get_samples(n_samples, X_train, y_train)\n",
        "# images, labels = get_digit(4, n_samples)\n",
        "plot_images(images, labels)"
      ],
      "execution_count": 4,
      "outputs": [
        {
          "output_type": "display_data",
          "data": {
            "image/png": "[encoded data removed]",
            "text/plain": [
              "<Figure size 1440x720 with 30 Axes>"
            ]
          },
          "metadata": {
            "tags": [],
            "needs_background": "light"
          }
        }
      ]
    },
    {
      "cell_type": "markdown",
      "metadata": {
        "id": "Mh5Jukj4AIa8",
        "colab_type": "text"
      },
      "source": [
        "**Plot the barplot of number of images of each class (0 to 9)**"
      ]
    },
    {
      "cell_type": "code",
      "metadata": {
        "colab_type": "code",
        "id": "xjVYEat8EJTd",
        "colab": {
          "base_uri": "https://localhost:8080/",
          "height": 282
        },
        "outputId": "05fded74-3bf8-468c-94c6-65138e2b7fc0"
      },
      "source": [
        "# Your code here\n",
        "sns.countplot(y_test)"
      ],
      "execution_count": 5,
      "outputs": [
        {
          "output_type": "execute_result",
          "data": {
            "text/plain": [
              "<matplotlib.axes._subplots.AxesSubplot at 0x7f43ac178d68>"
            ]
          },
          "metadata": {
            "tags": []
          },
          "execution_count": 5
        },
        {
          "output_type": "display_data",
          "data": {
            "image/png": "[encoded data removed]",
            "text/plain": [
              "<Figure size 432x288 with 1 Axes>"
            ]
          },
          "metadata": {
            "tags": [],
            "needs_background": "light"
          }
        }
      ]
    },
    {
      "cell_type": "markdown",
      "metadata": {
        "id": "yRxFLQZjAIbA",
        "colab_type": "text"
      },
      "source": [
        "**Print out the range of pixel values (min, max)**"
      ]
    },
    {
      "cell_type": "code",
      "metadata": {
        "colab_type": "code",
        "id": "d0rZBlU8FmtE",
        "colab": {
          "base_uri": "https://localhost:8080/",
          "height": 34
        },
        "outputId": "c92d0aea-c8a1-47a5-c9f0-65f8a7c91642"
      },
      "source": [
        "# Your code here\n",
        "print(\"Pixel value range: \", X_train.min(), X_train.max())"
      ],
      "execution_count": 6,
      "outputs": [
        {
          "output_type": "stream",
          "text": [
            "Pixel value range:  0 255\n"
          ],
          "name": "stdout"
        }
      ]
    },
    {
      "cell_type": "markdown",
      "metadata": {
        "colab_type": "text",
        "id": "XC2sFqfcJjQ1"
      },
      "source": [
        "## Transform data for training"
      ]
    },
    {
      "cell_type": "markdown",
      "metadata": {
        "id": "HtTutiwqAIbE",
        "colab_type": "text"
      },
      "source": [
        "**Get the first `n_samples` images randomly from training set and test set. Then reshape them into long vectors**"
      ]
    },
    {
      "cell_type": "code",
      "metadata": {
        "colab_type": "code",
        "id": "XF1XGXrvJlri",
        "colab": {}
      },
      "source": [
        "n_samples = 1000\n",
        "n_test_samples = 200\n",
        "# Fill the blanks\n",
        "X_train_flat, y_train_flat = get_samples(n_samples, X_train, y_train)\n",
        "X_test_flat, y_test_flat = get_samples(n_test_samples, X_test, y_test)\n",
        "\n",
        "# Normalization\n",
        "X_train_flat = X_train_flat.reshape((n_samples, -1))/255\n",
        "X_test_flat = X_test_flat.reshape((n_test_samples, -1))/255"
      ],
      "execution_count": 9,
      "outputs": []
    },
    {
      "cell_type": "code",
      "metadata": {
        "colab_type": "code",
        "id": "66rNQGgnK1MX",
        "colab": {
          "base_uri": "https://localhost:8080/",
          "height": 51
        },
        "outputId": "15e29bc7-6cbb-41c1-d0a9-d13824c4b8d2"
      },
      "source": [
        "print('Training data', X_train_flat.shape)\n",
        "print('Test data', X_test_flat.shape)"
      ],
      "execution_count": 10,
      "outputs": [
        {
          "output_type": "stream",
          "text": [
            "Training data (1000, 784)\n",
            "Test data (200, 784)\n"
          ],
          "name": "stdout"
        }
      ]
    },
    {
      "cell_type": "markdown",
      "metadata": {
        "colab_type": "text",
        "id": "bmxGMEGGLaJI"
      },
      "source": [
        "## Train models"
      ]
    },
    {
      "cell_type": "code",
      "metadata": {
        "colab_type": "code",
        "id": "4tJcSPEbLRsh",
        "colab": {}
      },
      "source": [
        "from sklearn.svm import SVC\n",
        "from sklearn.metrics import confusion_matrix, accuracy_score\n",
        "from sklearn.model_selection import cross_val_score\n",
        "from sklearn.model_selection import GridSearchCV"
      ],
      "execution_count": 11,
      "outputs": []
    },
    {
      "cell_type": "markdown",
      "metadata": {
        "id": "8vHewJOQAIbL",
        "colab_type": "text"
      },
      "source": [
        "**Train a SVM model**: Set up the training process and train with the small samples of data first before you take the full training dataset to train."
      ]
    },
    {
      "cell_type": "code",
      "metadata": {
        "id": "Mo2qhFY_AIbL",
        "colab_type": "code",
        "colab": {
          "base_uri": "https://localhost:8080/",
          "height": 85
        },
        "outputId": "4a065ba9-cbf6-4781-c174-0e426e697d6f"
      },
      "source": [
        "# Your code here\n",
        "clf = SVC(kernel='linear')\n",
        "clf.fit(X_train_flat, y_train_flat)"
      ],
      "execution_count": 12,
      "outputs": [
        {
          "output_type": "execute_result",
          "data": {
            "text/plain": [
              "SVC(C=1.0, break_ties=False, cache_size=200, class_weight=None, coef0=0.0,\n",
              "    decision_function_shape='ovr', degree=3, gamma='scale', kernel='linear',\n",
              "    max_iter=-1, probability=False, random_state=None, shrinking=True,\n",
              "    tol=0.001, verbose=False)"
            ]
          },
          "metadata": {
            "tags": []
          },
          "execution_count": 12
        }
      ]
    },
    {
      "cell_type": "code",
      "metadata": {
        "id": "luZ2FRPwDJN-",
        "colab_type": "code",
        "colab": {
          "base_uri": "https://localhost:8080/",
          "height": 221
        },
        "outputId": "3df1ed17-7cf6-4dde-f5a5-f4193c5336b2"
      },
      "source": [
        "parameters = {'gamma': [0.0001, 0.001, 0.01],\n",
        "              'C':[0.01, 0.1, 1, 10, 100]}\n",
        "\n",
        "model = SVC(kernel='rbf')\n",
        "\n",
        "gridsearch_models = GridSearchCV(estimator=model,\n",
        "                                 param_grid=parameters,\n",
        "                                 scoring='accuracy',\n",
        "                                 cv=5, n_jobs=-1)\n",
        "\n",
        "gridsearch_models.fit(X_train_flat, y_train_flat)"
      ],
      "execution_count": 13,
      "outputs": [
        {
          "output_type": "execute_result",
          "data": {
            "text/plain": [
              "GridSearchCV(cv=5, error_score=nan,\n",
              "             estimator=SVC(C=1.0, break_ties=False, cache_size=200,\n",
              "                           class_weight=None, coef0=0.0,\n",
              "                           decision_function_shape='ovr', degree=3,\n",
              "                           gamma='scale', kernel='rbf', max_iter=-1,\n",
              "                           probability=False, random_state=None, shrinking=True,\n",
              "                           tol=0.001, verbose=False),\n",
              "             iid='deprecated', n_jobs=-1,\n",
              "             param_grid={'C': [0.01, 0.1, 1, 10, 100],\n",
              "                         'gamma': [0.0001, 0.001, 0.01]},\n",
              "             pre_dispatch='2*n_jobs', refit=True, return_train_score=False,\n",
              "             scoring='accuracy', verbose=0)"
            ]
          },
          "metadata": {
            "tags": []
          },
          "execution_count": 13
        }
      ]
    },
    {
      "cell_type": "code",
      "metadata": {
        "id": "aQUp0WzBDOwa",
        "colab_type": "code",
        "colab": {
          "base_uri": "https://localhost:8080/",
          "height": 1000
        },
        "outputId": "86809d06-ef24-49a8-844f-2d6dcf757983"
      },
      "source": [
        "pd.DataFrame(gridsearch_models.cv_results_)"
      ],
      "execution_count": 14,
      "outputs": [
        {
          "output_type": "execute_result",
          "data": {
            "text/html": [
              "<div>\n",
              "<style scoped>\n",
              "    .dataframe tbody tr th:only-of-type {\n",
              "        vertical-align: middle;\n",
              "    }\n",
              "\n",
              "    .dataframe tbody tr th {\n",
              "        vertical-align: top;\n",
              "    }\n",
              "\n",
              "    .dataframe thead th {\n",
              "        text-align: right;\n",
              "    }\n",
              "</style>\n",
              "<table border=\"1\" class=\"dataframe\">\n",
              "  <thead>\n",
              "    <tr style=\"text-align: right;\">\n",
              "      <th></th>\n",
              "      <th>mean_fit_time</th>\n",
              "      <th>std_fit_time</th>\n",
              "      <th>mean_score_time</th>\n",
              "      <th>std_score_time</th>\n",
              "      <th>param_C</th>\n",
              "      <th>param_gamma</th>\n",
              "      <th>params</th>\n",
              "      <th>split0_test_score</th>\n",
              "      <th>split1_test_score</th>\n",
              "      <th>split2_test_score</th>\n",
              "      <th>split3_test_score</th>\n",
              "      <th>split4_test_score</th>\n",
              "      <th>mean_test_score</th>\n",
              "      <th>std_test_score</th>\n",
              "      <th>rank_test_score</th>\n",
              "    </tr>\n",
              "  </thead>\n",
              "  <tbody>\n",
              "    <tr>\n",
              "      <th>0</th>\n",
              "      <td>1.413564</td>\n",
              "      <td>0.008149</td>\n",
              "      <td>0.203159</td>\n",
              "      <td>0.000819</td>\n",
              "      <td>0.01</td>\n",
              "      <td>0.0001</td>\n",
              "      <td>{'C': 0.01, 'gamma': 0.0001}</td>\n",
              "      <td>0.120</td>\n",
              "      <td>0.125</td>\n",
              "      <td>0.125</td>\n",
              "      <td>0.120</td>\n",
              "      <td>0.120</td>\n",
              "      <td>0.122</td>\n",
              "      <td>0.002449</td>\n",
              "      <td>11</td>\n",
              "    </tr>\n",
              "    <tr>\n",
              "      <th>1</th>\n",
              "      <td>1.417574</td>\n",
              "      <td>0.011134</td>\n",
              "      <td>0.207751</td>\n",
              "      <td>0.004164</td>\n",
              "      <td>0.01</td>\n",
              "      <td>0.001</td>\n",
              "      <td>{'C': 0.01, 'gamma': 0.001}</td>\n",
              "      <td>0.120</td>\n",
              "      <td>0.125</td>\n",
              "      <td>0.125</td>\n",
              "      <td>0.120</td>\n",
              "      <td>0.120</td>\n",
              "      <td>0.122</td>\n",
              "      <td>0.002449</td>\n",
              "      <td>11</td>\n",
              "    </tr>\n",
              "    <tr>\n",
              "      <th>2</th>\n",
              "      <td>1.419350</td>\n",
              "      <td>0.005753</td>\n",
              "      <td>0.217118</td>\n",
              "      <td>0.016539</td>\n",
              "      <td>0.01</td>\n",
              "      <td>0.01</td>\n",
              "      <td>{'C': 0.01, 'gamma': 0.01}</td>\n",
              "      <td>0.120</td>\n",
              "      <td>0.125</td>\n",
              "      <td>0.125</td>\n",
              "      <td>0.120</td>\n",
              "      <td>0.120</td>\n",
              "      <td>0.122</td>\n",
              "      <td>0.002449</td>\n",
              "      <td>11</td>\n",
              "    </tr>\n",
              "    <tr>\n",
              "      <th>3</th>\n",
              "      <td>1.407469</td>\n",
              "      <td>0.003194</td>\n",
              "      <td>0.209956</td>\n",
              "      <td>0.006287</td>\n",
              "      <td>0.1</td>\n",
              "      <td>0.0001</td>\n",
              "      <td>{'C': 0.1, 'gamma': 0.0001}</td>\n",
              "      <td>0.120</td>\n",
              "      <td>0.125</td>\n",
              "      <td>0.125</td>\n",
              "      <td>0.120</td>\n",
              "      <td>0.120</td>\n",
              "      <td>0.122</td>\n",
              "      <td>0.002449</td>\n",
              "      <td>11</td>\n",
              "    </tr>\n",
              "    <tr>\n",
              "      <th>4</th>\n",
              "      <td>1.426217</td>\n",
              "      <td>0.013420</td>\n",
              "      <td>0.207875</td>\n",
              "      <td>0.005593</td>\n",
              "      <td>0.1</td>\n",
              "      <td>0.001</td>\n",
              "      <td>{'C': 0.1, 'gamma': 0.001}</td>\n",
              "      <td>0.120</td>\n",
              "      <td>0.125</td>\n",
              "      <td>0.125</td>\n",
              "      <td>0.120</td>\n",
              "      <td>0.120</td>\n",
              "      <td>0.122</td>\n",
              "      <td>0.002449</td>\n",
              "      <td>11</td>\n",
              "    </tr>\n",
              "    <tr>\n",
              "      <th>5</th>\n",
              "      <td>1.304719</td>\n",
              "      <td>0.006942</td>\n",
              "      <td>0.201184</td>\n",
              "      <td>0.003219</td>\n",
              "      <td>0.1</td>\n",
              "      <td>0.01</td>\n",
              "      <td>{'C': 0.1, 'gamma': 0.01}</td>\n",
              "      <td>0.685</td>\n",
              "      <td>0.690</td>\n",
              "      <td>0.670</td>\n",
              "      <td>0.665</td>\n",
              "      <td>0.685</td>\n",
              "      <td>0.679</td>\n",
              "      <td>0.009695</td>\n",
              "      <td>9</td>\n",
              "    </tr>\n",
              "    <tr>\n",
              "      <th>6</th>\n",
              "      <td>1.410905</td>\n",
              "      <td>0.020032</td>\n",
              "      <td>0.207873</td>\n",
              "      <td>0.005342</td>\n",
              "      <td>1</td>\n",
              "      <td>0.0001</td>\n",
              "      <td>{'C': 1, 'gamma': 0.0001}</td>\n",
              "      <td>0.120</td>\n",
              "      <td>0.125</td>\n",
              "      <td>0.130</td>\n",
              "      <td>0.120</td>\n",
              "      <td>0.120</td>\n",
              "      <td>0.123</td>\n",
              "      <td>0.004000</td>\n",
              "      <td>10</td>\n",
              "    </tr>\n",
              "    <tr>\n",
              "      <th>7</th>\n",
              "      <td>1.035045</td>\n",
              "      <td>0.004768</td>\n",
              "      <td>0.190281</td>\n",
              "      <td>0.003001</td>\n",
              "      <td>1</td>\n",
              "      <td>0.001</td>\n",
              "      <td>{'C': 1, 'gamma': 0.001}</td>\n",
              "      <td>0.790</td>\n",
              "      <td>0.830</td>\n",
              "      <td>0.795</td>\n",
              "      <td>0.790</td>\n",
              "      <td>0.790</td>\n",
              "      <td>0.799</td>\n",
              "      <td>0.015620</td>\n",
              "      <td>8</td>\n",
              "    </tr>\n",
              "    <tr>\n",
              "      <th>8</th>\n",
              "      <td>0.700395</td>\n",
              "      <td>0.003554</td>\n",
              "      <td>0.159751</td>\n",
              "      <td>0.003677</td>\n",
              "      <td>1</td>\n",
              "      <td>0.01</td>\n",
              "      <td>{'C': 1, 'gamma': 0.01}</td>\n",
              "      <td>0.890</td>\n",
              "      <td>0.930</td>\n",
              "      <td>0.875</td>\n",
              "      <td>0.905</td>\n",
              "      <td>0.910</td>\n",
              "      <td>0.902</td>\n",
              "      <td>0.018601</td>\n",
              "      <td>3</td>\n",
              "    </tr>\n",
              "    <tr>\n",
              "      <th>9</th>\n",
              "      <td>1.007818</td>\n",
              "      <td>0.007113</td>\n",
              "      <td>0.191248</td>\n",
              "      <td>0.005881</td>\n",
              "      <td>10</td>\n",
              "      <td>0.0001</td>\n",
              "      <td>{'C': 10, 'gamma': 0.0001}</td>\n",
              "      <td>0.805</td>\n",
              "      <td>0.825</td>\n",
              "      <td>0.810</td>\n",
              "      <td>0.805</td>\n",
              "      <td>0.795</td>\n",
              "      <td>0.808</td>\n",
              "      <td>0.009798</td>\n",
              "      <td>7</td>\n",
              "    </tr>\n",
              "    <tr>\n",
              "      <th>10</th>\n",
              "      <td>0.518590</td>\n",
              "      <td>0.008868</td>\n",
              "      <td>0.142030</td>\n",
              "      <td>0.001796</td>\n",
              "      <td>10</td>\n",
              "      <td>0.001</td>\n",
              "      <td>{'C': 10, 'gamma': 0.001}</td>\n",
              "      <td>0.875</td>\n",
              "      <td>0.915</td>\n",
              "      <td>0.880</td>\n",
              "      <td>0.890</td>\n",
              "      <td>0.900</td>\n",
              "      <td>0.892</td>\n",
              "      <td>0.014353</td>\n",
              "      <td>4</td>\n",
              "    </tr>\n",
              "    <tr>\n",
              "      <th>11</th>\n",
              "      <td>0.706339</td>\n",
              "      <td>0.019620</td>\n",
              "      <td>0.159018</td>\n",
              "      <td>0.004744</td>\n",
              "      <td>10</td>\n",
              "      <td>0.01</td>\n",
              "      <td>{'C': 10, 'gamma': 0.01}</td>\n",
              "      <td>0.905</td>\n",
              "      <td>0.940</td>\n",
              "      <td>0.905</td>\n",
              "      <td>0.915</td>\n",
              "      <td>0.925</td>\n",
              "      <td>0.918</td>\n",
              "      <td>0.013266</td>\n",
              "      <td>1</td>\n",
              "    </tr>\n",
              "    <tr>\n",
              "      <th>12</th>\n",
              "      <td>0.507747</td>\n",
              "      <td>0.007064</td>\n",
              "      <td>0.142154</td>\n",
              "      <td>0.006384</td>\n",
              "      <td>100</td>\n",
              "      <td>0.0001</td>\n",
              "      <td>{'C': 100, 'gamma': 0.0001}</td>\n",
              "      <td>0.870</td>\n",
              "      <td>0.910</td>\n",
              "      <td>0.885</td>\n",
              "      <td>0.895</td>\n",
              "      <td>0.900</td>\n",
              "      <td>0.892</td>\n",
              "      <td>0.013638</td>\n",
              "      <td>4</td>\n",
              "    </tr>\n",
              "    <tr>\n",
              "      <th>13</th>\n",
              "      <td>0.459355</td>\n",
              "      <td>0.003960</td>\n",
              "      <td>0.132599</td>\n",
              "      <td>0.002558</td>\n",
              "      <td>100</td>\n",
              "      <td>0.001</td>\n",
              "      <td>{'C': 100, 'gamma': 0.001}</td>\n",
              "      <td>0.885</td>\n",
              "      <td>0.900</td>\n",
              "      <td>0.885</td>\n",
              "      <td>0.905</td>\n",
              "      <td>0.885</td>\n",
              "      <td>0.892</td>\n",
              "      <td>0.008718</td>\n",
              "      <td>4</td>\n",
              "    </tr>\n",
              "    <tr>\n",
              "      <th>14</th>\n",
              "      <td>0.700120</td>\n",
              "      <td>0.008268</td>\n",
              "      <td>0.154464</td>\n",
              "      <td>0.003242</td>\n",
              "      <td>100</td>\n",
              "      <td>0.01</td>\n",
              "      <td>{'C': 100, 'gamma': 0.01}</td>\n",
              "      <td>0.905</td>\n",
              "      <td>0.940</td>\n",
              "      <td>0.905</td>\n",
              "      <td>0.915</td>\n",
              "      <td>0.925</td>\n",
              "      <td>0.918</td>\n",
              "      <td>0.013266</td>\n",
              "      <td>1</td>\n",
              "    </tr>\n",
              "  </tbody>\n",
              "</table>\n",
              "</div>"
            ],
            "text/plain": [
              "    mean_fit_time  std_fit_time  ...  std_test_score  rank_test_score\n",
              "0        1.413564      0.008149  ...        0.002449               11\n",
              "1        1.417574      0.011134  ...        0.002449               11\n",
              "2        1.419350      0.005753  ...        0.002449               11\n",
              "3        1.407469      0.003194  ...        0.002449               11\n",
              "4        1.426217      0.013420  ...        0.002449               11\n",
              "5        1.304719      0.006942  ...        0.009695                9\n",
              "6        1.410905      0.020032  ...        0.004000               10\n",
              "7        1.035045      0.004768  ...        0.015620                8\n",
              "8        0.700395      0.003554  ...        0.018601                3\n",
              "9        1.007818      0.007113  ...        0.009798                7\n",
              "10       0.518590      0.008868  ...        0.014353                4\n",
              "11       0.706339      0.019620  ...        0.013266                1\n",
              "12       0.507747      0.007064  ...        0.013638                4\n",
              "13       0.459355      0.003960  ...        0.008718                4\n",
              "14       0.700120      0.008268  ...        0.013266                1\n",
              "\n",
              "[15 rows x 15 columns]"
            ]
          },
          "metadata": {
            "tags": []
          },
          "execution_count": 14
        }
      ]
    },
    {
      "cell_type": "code",
      "metadata": {
        "id": "E0fO2k-wDSph",
        "colab_type": "code",
        "colab": {
          "base_uri": "https://localhost:8080/",
          "height": 51
        },
        "outputId": "95058835-2866-4430-9410-bad9f54dfaa9"
      },
      "source": [
        "print('Best params', gridsearch_models.best_params_)\n",
        "print('Best score', gridsearch_models.best_score_)"
      ],
      "execution_count": 15,
      "outputs": [
        {
          "output_type": "stream",
          "text": [
            "Best params {'C': 10, 'gamma': 0.01}\n",
            "Best score 0.9179999999999999\n"
          ],
          "name": "stdout"
        }
      ]
    },
    {
      "cell_type": "code",
      "metadata": {
        "id": "fGVeeItDDYtu",
        "colab_type": "code",
        "colab": {}
      },
      "source": [
        "best_model = gridsearch_models.best_estimator_"
      ],
      "execution_count": 16,
      "outputs": []
    },
    {
      "cell_type": "markdown",
      "metadata": {
        "colab_type": "text",
        "id": "rupa4m2jX5rm"
      },
      "source": [
        "## Evaluation"
      ]
    },
    {
      "cell_type": "markdown",
      "metadata": {
        "id": "2ncaF-JMAIbN",
        "colab_type": "text"
      },
      "source": [
        "**Get the predictions on test data**"
      ]
    },
    {
      "cell_type": "code",
      "metadata": {
        "colab_type": "code",
        "id": "1rwL5VCIX9qi",
        "colab": {
          "base_uri": "https://localhost:8080/",
          "height": 34
        },
        "outputId": "3f7e3e45-06af-4083-b2c6-02f42630778c"
      },
      "source": [
        "# Your code here\n",
        "predictions = best_model.predict(X_test_flat)\n",
        "print('Accuracy Score:', accuracy_score(y_test_flat, predictions))"
      ],
      "execution_count": 17,
      "outputs": [
        {
          "output_type": "stream",
          "text": [
            "Accuracy Score: 0.935\n"
          ],
          "name": "stdout"
        }
      ]
    },
    {
      "cell_type": "markdown",
      "metadata": {
        "id": "IGuF9RSNAIbQ",
        "colab_type": "text"
      },
      "source": [
        "**Plot the confusion matrix in form of a heatmap**"
      ]
    },
    {
      "cell_type": "code",
      "metadata": {
        "colab_type": "code",
        "id": "2RyKjfmHX7SN",
        "colab": {
          "base_uri": "https://localhost:8080/",
          "height": 612
        },
        "outputId": "d613a582-2027-439e-e494-6e7f877f5426"
      },
      "source": [
        "# Your code here\n",
        "plt.figure(figsize=(10,10))\n",
        "sns.heatmap(confusion_matrix(y_test_flat, predictions), cmap=\"YlGnBu\", annot=True, fmt=\"d\")\n",
        "plt.title(f'Accuracy score: {accuracy_score(y_test_flat, predictions)}', fontsize=20)\n",
        "plt.show()"
      ],
      "execution_count": 18,
      "outputs": [
        {
          "output_type": "display_data",
          "data": {
            "image/png": "[encoded data removed]",
            "text/plain": [
              "<Figure size 720x720 with 2 Axes>"
            ]
          },
          "metadata": {
            "tags": [],
            "needs_background": "light"
          }
        }
      ]
    },
    {
      "cell_type": "markdown",
      "metadata": {
        "id": "tSlYzbs9AIbS",
        "colab_type": "text"
      },
      "source": [
        "**Plot the samples that the model predicts incorrectly**"
      ]
    },
    {
      "cell_type": "code",
      "metadata": {
        "colab_type": "code",
        "id": "-_uUXSpazDLu",
        "colab": {
          "base_uri": "https://localhost:8080/",
          "height": 378
        },
        "outputId": "d2a2a77a-8608-4205-ea24-83760457364d"
      },
      "source": [
        "# Your code here\n",
        "wrong_predicted_images = X_test_flat[y_test_flat != predictions].reshape((-1, 28, 28))\n",
        "wrong_predictions = predictions[y_test_flat != predictions]\n",
        "\n",
        "plot_images(wrong_predicted_images, wrong_predictions)"
      ],
      "execution_count": 19,
      "outputs": [
        {
          "output_type": "display_data",
          "data": {
            "image/png": "[encoded data removed]",
            "text/plain": [
              "<Figure size 1440x720 with 13 Axes>"
            ]
          },
          "metadata": {
            "tags": [],
            "needs_background": "light"
          }
        }
      ]
    },
    {
      "cell_type": "markdown",
      "metadata": {
        "colab_type": "text",
        "id": "Y8O1Hh7LYNjP"
      },
      "source": [
        "## Save model"
      ]
    },
    {
      "cell_type": "code",
      "metadata": {
        "colab_type": "code",
        "id": "C7cNiWsLYPTE",
        "colab": {}
      },
      "source": [
        "import pickle\n",
        "\n",
        "pickle.dump(clf, open('svm_mnist.pkl', 'wb'))"
      ],
      "execution_count": 20,
      "outputs": []
    },
    {
      "cell_type": "markdown",
      "metadata": {
        "colab_type": "text",
        "id": "5B-g57XIYuH0"
      },
      "source": [
        "**Re-load model for testing**"
      ]
    },
    {
      "cell_type": "code",
      "metadata": {
        "colab_type": "code",
        "id": "WDsYcxfzYd8F",
        "colab": {
          "base_uri": "https://localhost:8080/",
          "height": 34
        },
        "outputId": "af798cc8-fe89-48bc-8037-7405346e6eae"
      },
      "source": [
        "# Your code here\n",
        "with open('svm_mnist.pkl', 'rb') as model:\n",
        "  model_reloading = pickle.load(model)\n",
        "\n",
        "model_predict = model_reloading.predict(X_test_flat)\n",
        "print(f'Accuracy score: {accuracy_score(y_test_flat, model_predict)}')"
      ],
      "execution_count": 21,
      "outputs": [
        {
          "output_type": "stream",
          "text": [
            "Accuracy score: 0.915\n"
          ],
          "name": "stdout"
        }
      ]
    },
    {
      "cell_type": "markdown",
      "metadata": {
        "colab_type": "text",
        "id": "1BVyCBz2m0Lz"
      },
      "source": [
        "## BONUS: Embedding the model into a web application"
      ]
    },
    {
      "cell_type": "markdown",
      "metadata": {
        "colab_type": "text",
        "id": "0Y2hes6WnfxV"
      },
      "source": [
        "### Project structure\n",
        "\n",
        "* Clone the files of the repository\n",
        "\n",
        "```bash\n",
        "git clone https://github.com/dhminh1024/flask_doc.git\n",
        "```\n",
        "\n",
        "* Change directory\n",
        "\n",
        "```bash\n",
        "cd flask_doc\n",
        "```\n",
        "\n",
        "* Create the following folders and files\n",
        "\n",
        "|-app/\n",
        "    |-templates/\n",
        "        |-base.html\n",
        "    |-static/\n",
        "        |-js/\n",
        "            |-index.js\n",
        "        |-css/\n",
        "            |-style.css\n",
        "        |-images/\n",
        "    |-blueprints/\n",
        "        |-__ init__.py\n",
        "    |-middlewares/\n",
        "    |-models/\n",
        "    |-main.py\n",
        "\n",
        "```bash\n",
        "mkdir app app/templates app/static app/static/js app/static/css app/static/images app/blueprints app/middlewares app/models\n",
        "touch app/main.py app/templates/base.html app/static/js/index.js app/static/css/style.css\n",
        "touch app/blueprints/__init__.py\n",
        "```\n",
        "\n",
        "* Add jquery (optional)\n",
        "\n",
        "```bash\n",
        "mv ./jquery-3.4.1.min.js app/static/js/\n",
        "```\n",
        "\n",
        "* Add Canvas (optional)\n",
        "\n",
        "```bash\n",
        "mv ./index.js app/static/js/index.js\n",
        "```\n",
        "\n",
        "* Add Coderschool logo (optional)\n",
        "\n",
        "```bash\n",
        "mv ./images/coderschool-logo.png app/static/images/\n",
        "rm -r images\n",
        "```\n",
        "\n",
        "* Add this code in **app/main.py**\n",
        "\n",
        "```python\n",
        "from flask import Flask, render_template\n",
        "from blueprints import *\n",
        "\n",
        "app = Flask(__name__)\n",
        "app.register_blueprint(home)\n",
        "\n",
        "if __name__ == '__main__':\n",
        "  app.run(host='127.0.0.1', port=5000, debug=True)\n",
        "```\n",
        "> *Hints: most of this code can be automaticaly generated with a VSCode Extension called flask-snippets by only writting \"fapp\"*\n",
        "> ![](https://i.imgur.com/npmdsha.png=500x)"
      ]
    },
    {
      "cell_type": "markdown",
      "metadata": {
        "colab_type": "text",
        "id": "4YcCs2nPAIbb"
      },
      "source": [
        "### Generating a new blueprint of our Flask app\n",
        "\n",
        "> A blueprint is a template for generating a \"section\" of our Flask app\n",
        "\n",
        "* In **flask_doc** directory, run this code in the **Terminal**\n",
        "\n",
        "```bash\n",
        "export NEW_BLUEPRINT=home\n",
        "mkdir app/blueprints/$NEW_BLUEPRINT\n",
        "touch app/blueprints/$NEW_BLUEPRINT/__init__.py app/blueprints/$NEW_BLUEPRINT/blueprint.py\n",
        "echo \"from .$NEW_BLUEPRINT import $NEW_BLUEPRINT\" >> app/blueprints/__init__.py\n",
        "echo \"from .blueprint import $NEW_BLUEPRINT\" > app/blueprints/$NEW_BLUEPRINT/__init__.py\n",
        "printf \\\n",
        "\"from flask import Blueprint, render_template, request\\n\\\n",
        "\\n\\\n",
        "$NEW_BLUEPRINT = Blueprint('$NEW_BLUEPRINT', __name__)\\\n",
        "\\n\\\n",
        "@$NEW_BLUEPRINT.route('/home')\\n\\\n",
        "def route_name():\\n\\\n",
        "    return render_template('$NEW_BLUEPRINT.html') \\n\\\n",
        "\" > app/blueprints/$NEW_BLUEPRINT/blueprint.py\n",
        "cp ./sample_page.html app/templates/$NEW_BLUEPRINT.html\n",
        "```\n",
        "> Hints: change 'home' to make a new blueprint (line 1 & 14)"
      ]
    },
    {
      "cell_type": "markdown",
      "metadata": {
        "colab_type": "text",
        "id": "9PH_skKCAIbb"
      },
      "source": [
        "### HTML Template\n",
        "\n",
        "* Add this code in **app/templates/base.html**\n",
        "\n",
        "```HTML\n",
        "<!doctype html>\n",
        "<html lang=\"en\">\n",
        "  <head>\n",
        "    <title>Title</title>\n",
        "    <!-- Required meta tags -->\n",
        "    <meta charset=\"utf-8\">\n",
        "    <meta name=\"viewport\" content=\"width=device-width, initial-scale=1, shrink-to-fit=no\">\n",
        "\n",
        "    <!-- Bootstrap CSS -->\n",
        "    <link rel=\"stylesheet\" href=\"https://stackpath.bootstrapcdn.com/bootstrap/4.3.1/css/bootstrap.min.css\" integrity=\"sha384-ggOyR0iXCbMQv3Xipma34MD+dH/1fQ784/j6cY/iJTQUOhcWr7x9JvoRxT2MZw1T\" crossorigin=\"anonymous\">\n",
        "    <!-- CSS -->\n",
        "    <link href=\"static/css/style.css\" rel=\"stylesheet\">\n",
        "</head>\n",
        "  <body class=\"text-center\">\n",
        "    {% block content%} {% endblock %} \n",
        "    \n",
        "    <script src=\"static/js/jquery-3.4.1.min.js\"></script>\n",
        "    <script src=\"static/js/index.js\"></script>\n",
        "    <!-- AJAX optional -->\n",
        "    <script type=\"text/javascript\">\n",
        "        $(\"#myButton\").click(function(){\n",
        "            $('#result').text('  Predicting...');\n",
        "            var $SCRIPT_ROOT = {{request.script_root|tojson|safe}};\n",
        "            var canvasObj = document.getElementById(\"canvas\");\n",
        "            var img = canvasObj.toDataURL('image/jpeg');\n",
        "            $.ajax({\n",
        "                type: \"POST\",\n",
        "                url: $SCRIPT_ROOT + \"/upload/\",\n",
        "                data: img,\n",
        "                success: function(data){\n",
        "                    $('#result').text('Predictions ' + data);\n",
        "                }\n",
        "            });\n",
        "        });\n",
        "    </script>\n",
        "  </body>\n",
        "</html>\n",
        "```\n",
        "\n",
        "> *Hints: most of this code can be automaticaly generated with VSCode Extensions called Bootstrap 4, Font awesome 4, Font Awesome 5 Free & Pro snippets by only writting \"b4-$\"*"
      ]
    },
    {
      "cell_type": "markdown",
      "metadata": {
        "colab_type": "text",
        "id": "gtAANFtOAIbc"
      },
      "source": [
        "### Run the app\n",
        "\n",
        "* Change directory\n",
        "\n",
        "```bash\n",
        "cd app\n",
        "```\n",
        "\n",
        "* Run the app\n",
        "\n",
        "```bash\n",
        "python main.py\n",
        "```\n",
        "\n",
        "Congratulation, you have just created your Flask app. Here is the link of your Flask app: http://127.0.0.1:5000/home\n",
        "\n",
        "### Html for MNIST example\n",
        "\n",
        "* Replace the code of **app/templates/home.html** by this code \n",
        "\n",
        "```HTML\n",
        "{% extends \"base.html\" %} {% block content %}\n",
        "<div style=\"margin-top:50px\">\n",
        "  <img class=\"mb-4\" src=\"static/images/coderschool-logo.png\" alt=\"\" />\n",
        "  <h1 class=\"h3 mb-3 font-weight-normal\">Please draw a number</h1>\n",
        "\n",
        "  <canvas id=\"canvas\" width=\"400\" height=\"400\"></canvas>\n",
        "\n",
        "  <h1 class=\"h3 mb-3 font-weight-normal\" id=\"result\">Predictions:</h1>\n",
        "\n",
        "  <button id=\"myButton\" class=\"btn  btn-primary \" type=\"submit\">\n",
        "    Predict\n",
        "  </button>\n",
        "  <button id=\"clearButton\" class=\"btn btn-success\" type=\"submit\">\n",
        "    Clear\n",
        "  </button>\n",
        "\n",
        "  <p class=\"mt-5 mb-3 text-muted\">&copy; CoderSchool</p>\n",
        "</div>\n",
        "{% endblock %}\n",
        "\n",
        "```\n",
        "\n",
        "### Python for MNIST example\n",
        "\n",
        "* In **flask_doc** directory, run this code to generate the blueprint related to upload\n",
        "\n",
        "```bash\n",
        "export NEW_BLUEPRINT=upload_api\n",
        "mkdir app/blueprints/$NEW_BLUEPRINT\n",
        "touch app/blueprints/$NEW_BLUEPRINT/__init__.py app/blueprints/$NEW_BLUEPRINT/blueprint.py\n",
        "echo \"from .$NEW_BLUEPRINT import $NEW_BLUEPRINT\" >> app/blueprints/__init__.py\n",
        "echo \"from .blueprint import $NEW_BLUEPRINT\" > app/blueprints/$NEW_BLUEPRINT/__init__.py\n",
        "printf \\\n",
        "\"from flask import Blueprint, render_template, request\\n\\\n",
        "\\n\\\n",
        "$NEW_BLUEPRINT = Blueprint('$NEW_BLUEPRINT', __name__)\\\n",
        "\\n\\\n",
        "@$NEW_BLUEPRINT.route('/upload_api')\\n\\\n",
        "def route_name():\\n\\\n",
        "    return render_template('$NEW_BLUEPRINT.html') \\n\\\n",
        "\" > app/blueprints/$NEW_BLUEPRINT/blueprint.py\n",
        "cp ./sample_page.html app/templates/$NEW_BLUEPRINT.html\n",
        "```\n",
        "\n",
        "\n",
        "* Replace the code of **app/blueprints/upload_api/blueprint.py** by this code\n",
        "\n",
        "```python\n",
        "from flask import Blueprint, render_template, request\n",
        "import re\n",
        "import base64\n",
        "import numpy as np\n",
        "\n",
        "def parse_image(imgData):\n",
        "    img_str = re.search(b\"base64,(.*)\", imgData).group(1)\n",
        "    img_decode = base64.decodebytes(img_str)\n",
        "    with open('output.png', \"wb\") as f:\n",
        "        f.write(img_decode)\n",
        "    return img_decode\n",
        "\n",
        "# Load your model here\n",
        "model = None\n",
        "\n",
        "upload_api = Blueprint('upload_api', __name__)\n",
        "\n",
        "\n",
        "@upload_api.route('/upload/', methods=['POST'])\n",
        "def upload():\n",
        "    image = parse_image(request.get_data())\n",
        "    # Your prediction here\n",
        "    prediction = 0\n",
        "    return str(prediction)\n",
        "\n",
        "```\n",
        "\n",
        "* Register the upload API in **app/main.py**:\n",
        "\n",
        "```python\n",
        "from flask import Flask, render_template\n",
        "from blueprints import *\n",
        "\n",
        "app = Flask(__name__)\n",
        "app.register_blueprint(home)\n",
        "app.register_blueprint(upload_api)\n",
        "\n",
        "if __name__ == '__main__':\n",
        "    app.run(host='127.0.0.1', port=5000, debug=True)\n",
        "```"
      ]
    },
    {
      "cell_type": "code",
      "metadata": {
        "colab_type": "code",
        "id": "32IcQ1Cpl3AS",
        "colab": {}
      },
      "source": [
        ""
      ],
      "execution_count": 21,
      "outputs": []
    }
  ]
}